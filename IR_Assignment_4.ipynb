{
  "cells": [
    {
      "cell_type": "code",
      "execution_count": 1,
      "metadata": {
        "colab": {
          "base_uri": "https://localhost:8080/"
        },
        "id": "3juCLGk4WnPT",
        "outputId": "c19a2854-9c15-4c32-fab4-c4d1870a27d3"
      },
      "outputs": [
        {
          "output_type": "stream",
          "name": "stdout",
          "text": [
            "Mounted at /content/drive\n"
          ]
        }
      ],
      "source": [
        "from google.colab import drive\n",
        "drive.mount('/content/drive')"
      ]
    },
    {
      "cell_type": "code",
      "execution_count": 35,
      "metadata": {
        "colab": {
          "base_uri": "https://localhost:8080/"
        },
        "id": "Xtc-3gLp89ge",
        "outputId": "a29b1b9a-5377-4ade-b174-fdf4b10846f9"
      },
      "outputs": [
        {
          "output_type": "stream",
          "name": "stdout",
          "text": [
            "Requirement already satisfied: transformers in /usr/local/lib/python3.10/dist-packages (4.38.2)\n",
            "Requirement already satisfied: filelock in /usr/local/lib/python3.10/dist-packages (from transformers) (3.13.4)\n",
            "Requirement already satisfied: huggingface-hub<1.0,>=0.19.3 in /usr/local/lib/python3.10/dist-packages (from transformers) (0.20.3)\n",
            "Requirement already satisfied: numpy>=1.17 in /usr/local/lib/python3.10/dist-packages (from transformers) (1.25.2)\n",
            "Requirement already satisfied: packaging>=20.0 in /usr/local/lib/python3.10/dist-packages (from transformers) (24.0)\n",
            "Requirement already satisfied: pyyaml>=5.1 in /usr/local/lib/python3.10/dist-packages (from transformers) (6.0.1)\n",
            "Requirement already satisfied: regex!=2019.12.17 in /usr/local/lib/python3.10/dist-packages (from transformers) (2023.12.25)\n",
            "Requirement already satisfied: requests in /usr/local/lib/python3.10/dist-packages (from transformers) (2.31.0)\n",
            "Requirement already satisfied: tokenizers<0.19,>=0.14 in /usr/local/lib/python3.10/dist-packages (from transformers) (0.15.2)\n",
            "Requirement already satisfied: safetensors>=0.4.1 in /usr/local/lib/python3.10/dist-packages (from transformers) (0.4.3)\n",
            "Requirement already satisfied: tqdm>=4.27 in /usr/local/lib/python3.10/dist-packages (from transformers) (4.66.2)\n",
            "Requirement already satisfied: fsspec>=2023.5.0 in /usr/local/lib/python3.10/dist-packages (from huggingface-hub<1.0,>=0.19.3->transformers) (2023.6.0)\n",
            "Requirement already satisfied: typing-extensions>=3.7.4.3 in /usr/local/lib/python3.10/dist-packages (from huggingface-hub<1.0,>=0.19.3->transformers) (4.11.0)\n",
            "Requirement already satisfied: charset-normalizer<4,>=2 in /usr/local/lib/python3.10/dist-packages (from requests->transformers) (3.3.2)\n",
            "Requirement already satisfied: idna<4,>=2.5 in /usr/local/lib/python3.10/dist-packages (from requests->transformers) (3.7)\n",
            "Requirement already satisfied: urllib3<3,>=1.21.1 in /usr/local/lib/python3.10/dist-packages (from requests->transformers) (2.0.7)\n",
            "Requirement already satisfied: certifi>=2017.4.17 in /usr/local/lib/python3.10/dist-packages (from requests->transformers) (2024.2.2)\n"
          ]
        }
      ],
      "source": [
        "!pip install transformers"
      ]
    },
    {
      "cell_type": "code",
      "execution_count": 36,
      "metadata": {
        "id": "kR0Vxhgt85IP"
      },
      "outputs": [],
      "source": [
        "import re\n",
        "import random\n",
        "import pandas as pd\n",
        "import numpy as np\n",
        "import torch\n",
        "from torch.utils.data import Dataset, DataLoader\n",
        "from transformers import AutoTokenizer, AutoModelWithLMHead\n",
        "import torch.optim as optim"
      ]
    },
    {
      "cell_type": "code",
      "execution_count": 37,
      "metadata": {
        "colab": {
          "base_uri": "https://localhost:8080/"
        },
        "id": "yyTUsl9689a_",
        "outputId": "c7092be8-7709-4406-d4cf-109b8cc50221"
      },
      "outputs": [
        {
          "output_type": "execute_result",
          "data": {
            "text/plain": [
              "device(type='cuda', index=0)"
            ]
          },
          "metadata": {},
          "execution_count": 37
        }
      ],
      "source": [
        "device = torch.device('cuda:0' if torch.cuda.is_available() else 'cpu')\n",
        "device"
      ]
    },
    {
      "cell_type": "code",
      "execution_count": 99,
      "metadata": {
        "colab": {
          "base_uri": "https://localhost:8080/",
          "height": 694
        },
        "id": "V-SuWhcB89d2",
        "outputId": "c1bbe79c-399b-448e-cbeb-7381fa4fb8bf"
      },
      "outputs": [
        {
          "output_type": "execute_result",
          "data": {
            "text/plain": [
              "   Id   ProductId          UserId                      ProfileName  \\\n",
              "0   1  B001E4KFG0  A3SGXH7AUHU8GW                       delmartian   \n",
              "1   2  B00813GRG4  A1D87F6ZCVE5NK                           dll pa   \n",
              "2   3  B000LQOCH0   ABXLMWJIXXAIN  Natalia Corres \"Natalia Corres\"   \n",
              "3   4  B000UA0QIQ  A395BORC6FGVXV                             Karl   \n",
              "4   5  B006K2ZZ7K  A1UQRSCLF8GW1T    Michael D. Bigham \"M. Wassir\"   \n",
              "\n",
              "   HelpfulnessNumerator  HelpfulnessDenominator  Score        Time  \\\n",
              "0                     1                       1      5  1303862400   \n",
              "1                     0                       0      1  1346976000   \n",
              "2                     1                       1      4  1219017600   \n",
              "3                     3                       3      2  1307923200   \n",
              "4                     0                       0      5  1350777600   \n",
              "\n",
              "                 Summary                                               Text  \n",
              "0  Good Quality Dog Food  I have bought several of the Vitality canned d...  \n",
              "1      Not as Advertised  Product arrived labeled as Jumbo Salted Peanut...  \n",
              "2  \"Delight\" says it all  This is a confection that has been around a fe...  \n",
              "3         Cough Medicine  If you are looking for the secret ingredient i...  \n",
              "4            Great taffy  Great taffy at a great price.  There was a wid...  "
            ],
            "text/html": [
              "\n",
              "  <div id=\"df-44ed4296-4b34-4ac6-a26b-8f663ae8b9ec\" class=\"colab-df-container\">\n",
              "    <div>\n",
              "<style scoped>\n",
              "    .dataframe tbody tr th:only-of-type {\n",
              "        vertical-align: middle;\n",
              "    }\n",
              "\n",
              "    .dataframe tbody tr th {\n",
              "        vertical-align: top;\n",
              "    }\n",
              "\n",
              "    .dataframe thead th {\n",
              "        text-align: right;\n",
              "    }\n",
              "</style>\n",
              "<table border=\"1\" class=\"dataframe\">\n",
              "  <thead>\n",
              "    <tr style=\"text-align: right;\">\n",
              "      <th></th>\n",
              "      <th>Id</th>\n",
              "      <th>ProductId</th>\n",
              "      <th>UserId</th>\n",
              "      <th>ProfileName</th>\n",
              "      <th>HelpfulnessNumerator</th>\n",
              "      <th>HelpfulnessDenominator</th>\n",
              "      <th>Score</th>\n",
              "      <th>Time</th>\n",
              "      <th>Summary</th>\n",
              "      <th>Text</th>\n",
              "    </tr>\n",
              "  </thead>\n",
              "  <tbody>\n",
              "    <tr>\n",
              "      <th>0</th>\n",
              "      <td>1</td>\n",
              "      <td>B001E4KFG0</td>\n",
              "      <td>A3SGXH7AUHU8GW</td>\n",
              "      <td>delmartian</td>\n",
              "      <td>1</td>\n",
              "      <td>1</td>\n",
              "      <td>5</td>\n",
              "      <td>1303862400</td>\n",
              "      <td>Good Quality Dog Food</td>\n",
              "      <td>I have bought several of the Vitality canned d...</td>\n",
              "    </tr>\n",
              "    <tr>\n",
              "      <th>1</th>\n",
              "      <td>2</td>\n",
              "      <td>B00813GRG4</td>\n",
              "      <td>A1D87F6ZCVE5NK</td>\n",
              "      <td>dll pa</td>\n",
              "      <td>0</td>\n",
              "      <td>0</td>\n",
              "      <td>1</td>\n",
              "      <td>1346976000</td>\n",
              "      <td>Not as Advertised</td>\n",
              "      <td>Product arrived labeled as Jumbo Salted Peanut...</td>\n",
              "    </tr>\n",
              "    <tr>\n",
              "      <th>2</th>\n",
              "      <td>3</td>\n",
              "      <td>B000LQOCH0</td>\n",
              "      <td>ABXLMWJIXXAIN</td>\n",
              "      <td>Natalia Corres \"Natalia Corres\"</td>\n",
              "      <td>1</td>\n",
              "      <td>1</td>\n",
              "      <td>4</td>\n",
              "      <td>1219017600</td>\n",
              "      <td>\"Delight\" says it all</td>\n",
              "      <td>This is a confection that has been around a fe...</td>\n",
              "    </tr>\n",
              "    <tr>\n",
              "      <th>3</th>\n",
              "      <td>4</td>\n",
              "      <td>B000UA0QIQ</td>\n",
              "      <td>A395BORC6FGVXV</td>\n",
              "      <td>Karl</td>\n",
              "      <td>3</td>\n",
              "      <td>3</td>\n",
              "      <td>2</td>\n",
              "      <td>1307923200</td>\n",
              "      <td>Cough Medicine</td>\n",
              "      <td>If you are looking for the secret ingredient i...</td>\n",
              "    </tr>\n",
              "    <tr>\n",
              "      <th>4</th>\n",
              "      <td>5</td>\n",
              "      <td>B006K2ZZ7K</td>\n",
              "      <td>A1UQRSCLF8GW1T</td>\n",
              "      <td>Michael D. Bigham \"M. Wassir\"</td>\n",
              "      <td>0</td>\n",
              "      <td>0</td>\n",
              "      <td>5</td>\n",
              "      <td>1350777600</td>\n",
              "      <td>Great taffy</td>\n",
              "      <td>Great taffy at a great price.  There was a wid...</td>\n",
              "    </tr>\n",
              "  </tbody>\n",
              "</table>\n",
              "</div>\n",
              "    <div class=\"colab-df-buttons\">\n",
              "\n",
              "  <div class=\"colab-df-container\">\n",
              "    <button class=\"colab-df-convert\" onclick=\"convertToInteractive('df-44ed4296-4b34-4ac6-a26b-8f663ae8b9ec')\"\n",
              "            title=\"Convert this dataframe to an interactive table.\"\n",
              "            style=\"display:none;\">\n",
              "\n",
              "  <svg xmlns=\"http://www.w3.org/2000/svg\" height=\"24px\" viewBox=\"0 -960 960 960\">\n",
              "    <path d=\"M120-120v-720h720v720H120Zm60-500h600v-160H180v160Zm220 220h160v-160H400v160Zm0 220h160v-160H400v160ZM180-400h160v-160H180v160Zm440 0h160v-160H620v160ZM180-180h160v-160H180v160Zm440 0h160v-160H620v160Z\"/>\n",
              "  </svg>\n",
              "    </button>\n",
              "\n",
              "  <style>\n",
              "    .colab-df-container {\n",
              "      display:flex;\n",
              "      gap: 12px;\n",
              "    }\n",
              "\n",
              "    .colab-df-convert {\n",
              "      background-color: #E8F0FE;\n",
              "      border: none;\n",
              "      border-radius: 50%;\n",
              "      cursor: pointer;\n",
              "      display: none;\n",
              "      fill: #1967D2;\n",
              "      height: 32px;\n",
              "      padding: 0 0 0 0;\n",
              "      width: 32px;\n",
              "    }\n",
              "\n",
              "    .colab-df-convert:hover {\n",
              "      background-color: #E2EBFA;\n",
              "      box-shadow: 0px 1px 2px rgba(60, 64, 67, 0.3), 0px 1px 3px 1px rgba(60, 64, 67, 0.15);\n",
              "      fill: #174EA6;\n",
              "    }\n",
              "\n",
              "    .colab-df-buttons div {\n",
              "      margin-bottom: 4px;\n",
              "    }\n",
              "\n",
              "    [theme=dark] .colab-df-convert {\n",
              "      background-color: #3B4455;\n",
              "      fill: #D2E3FC;\n",
              "    }\n",
              "\n",
              "    [theme=dark] .colab-df-convert:hover {\n",
              "      background-color: #434B5C;\n",
              "      box-shadow: 0px 1px 3px 1px rgba(0, 0, 0, 0.15);\n",
              "      filter: drop-shadow(0px 1px 2px rgba(0, 0, 0, 0.3));\n",
              "      fill: #FFFFFF;\n",
              "    }\n",
              "  </style>\n",
              "\n",
              "    <script>\n",
              "      const buttonEl =\n",
              "        document.querySelector('#df-44ed4296-4b34-4ac6-a26b-8f663ae8b9ec button.colab-df-convert');\n",
              "      buttonEl.style.display =\n",
              "        google.colab.kernel.accessAllowed ? 'block' : 'none';\n",
              "\n",
              "      async function convertToInteractive(key) {\n",
              "        const element = document.querySelector('#df-44ed4296-4b34-4ac6-a26b-8f663ae8b9ec');\n",
              "        const dataTable =\n",
              "          await google.colab.kernel.invokeFunction('convertToInteractive',\n",
              "                                                    [key], {});\n",
              "        if (!dataTable) return;\n",
              "\n",
              "        const docLinkHtml = 'Like what you see? Visit the ' +\n",
              "          '<a target=\"_blank\" href=https://colab.research.google.com/notebooks/data_table.ipynb>data table notebook</a>'\n",
              "          + ' to learn more about interactive tables.';\n",
              "        element.innerHTML = '';\n",
              "        dataTable['output_type'] = 'display_data';\n",
              "        await google.colab.output.renderOutput(dataTable, element);\n",
              "        const docLink = document.createElement('div');\n",
              "        docLink.innerHTML = docLinkHtml;\n",
              "        element.appendChild(docLink);\n",
              "      }\n",
              "    </script>\n",
              "  </div>\n",
              "\n",
              "\n",
              "<div id=\"df-2efa6974-923f-48bb-883b-d6b60d03a56e\">\n",
              "  <button class=\"colab-df-quickchart\" onclick=\"quickchart('df-2efa6974-923f-48bb-883b-d6b60d03a56e')\"\n",
              "            title=\"Suggest charts\"\n",
              "            style=\"display:none;\">\n",
              "\n",
              "<svg xmlns=\"http://www.w3.org/2000/svg\" height=\"24px\"viewBox=\"0 0 24 24\"\n",
              "     width=\"24px\">\n",
              "    <g>\n",
              "        <path d=\"M19 3H5c-1.1 0-2 .9-2 2v14c0 1.1.9 2 2 2h14c1.1 0 2-.9 2-2V5c0-1.1-.9-2-2-2zM9 17H7v-7h2v7zm4 0h-2V7h2v10zm4 0h-2v-4h2v4z\"/>\n",
              "    </g>\n",
              "</svg>\n",
              "  </button>\n",
              "\n",
              "<style>\n",
              "  .colab-df-quickchart {\n",
              "      --bg-color: #E8F0FE;\n",
              "      --fill-color: #1967D2;\n",
              "      --hover-bg-color: #E2EBFA;\n",
              "      --hover-fill-color: #174EA6;\n",
              "      --disabled-fill-color: #AAA;\n",
              "      --disabled-bg-color: #DDD;\n",
              "  }\n",
              "\n",
              "  [theme=dark] .colab-df-quickchart {\n",
              "      --bg-color: #3B4455;\n",
              "      --fill-color: #D2E3FC;\n",
              "      --hover-bg-color: #434B5C;\n",
              "      --hover-fill-color: #FFFFFF;\n",
              "      --disabled-bg-color: #3B4455;\n",
              "      --disabled-fill-color: #666;\n",
              "  }\n",
              "\n",
              "  .colab-df-quickchart {\n",
              "    background-color: var(--bg-color);\n",
              "    border: none;\n",
              "    border-radius: 50%;\n",
              "    cursor: pointer;\n",
              "    display: none;\n",
              "    fill: var(--fill-color);\n",
              "    height: 32px;\n",
              "    padding: 0;\n",
              "    width: 32px;\n",
              "  }\n",
              "\n",
              "  .colab-df-quickchart:hover {\n",
              "    background-color: var(--hover-bg-color);\n",
              "    box-shadow: 0 1px 2px rgba(60, 64, 67, 0.3), 0 1px 3px 1px rgba(60, 64, 67, 0.15);\n",
              "    fill: var(--button-hover-fill-color);\n",
              "  }\n",
              "\n",
              "  .colab-df-quickchart-complete:disabled,\n",
              "  .colab-df-quickchart-complete:disabled:hover {\n",
              "    background-color: var(--disabled-bg-color);\n",
              "    fill: var(--disabled-fill-color);\n",
              "    box-shadow: none;\n",
              "  }\n",
              "\n",
              "  .colab-df-spinner {\n",
              "    border: 2px solid var(--fill-color);\n",
              "    border-color: transparent;\n",
              "    border-bottom-color: var(--fill-color);\n",
              "    animation:\n",
              "      spin 1s steps(1) infinite;\n",
              "  }\n",
              "\n",
              "  @keyframes spin {\n",
              "    0% {\n",
              "      border-color: transparent;\n",
              "      border-bottom-color: var(--fill-color);\n",
              "      border-left-color: var(--fill-color);\n",
              "    }\n",
              "    20% {\n",
              "      border-color: transparent;\n",
              "      border-left-color: var(--fill-color);\n",
              "      border-top-color: var(--fill-color);\n",
              "    }\n",
              "    30% {\n",
              "      border-color: transparent;\n",
              "      border-left-color: var(--fill-color);\n",
              "      border-top-color: var(--fill-color);\n",
              "      border-right-color: var(--fill-color);\n",
              "    }\n",
              "    40% {\n",
              "      border-color: transparent;\n",
              "      border-right-color: var(--fill-color);\n",
              "      border-top-color: var(--fill-color);\n",
              "    }\n",
              "    60% {\n",
              "      border-color: transparent;\n",
              "      border-right-color: var(--fill-color);\n",
              "    }\n",
              "    80% {\n",
              "      border-color: transparent;\n",
              "      border-right-color: var(--fill-color);\n",
              "      border-bottom-color: var(--fill-color);\n",
              "    }\n",
              "    90% {\n",
              "      border-color: transparent;\n",
              "      border-bottom-color: var(--fill-color);\n",
              "    }\n",
              "  }\n",
              "</style>\n",
              "\n",
              "  <script>\n",
              "    async function quickchart(key) {\n",
              "      const quickchartButtonEl =\n",
              "        document.querySelector('#' + key + ' button');\n",
              "      quickchartButtonEl.disabled = true;  // To prevent multiple clicks.\n",
              "      quickchartButtonEl.classList.add('colab-df-spinner');\n",
              "      try {\n",
              "        const charts = await google.colab.kernel.invokeFunction(\n",
              "            'suggestCharts', [key], {});\n",
              "      } catch (error) {\n",
              "        console.error('Error during call to suggestCharts:', error);\n",
              "      }\n",
              "      quickchartButtonEl.classList.remove('colab-df-spinner');\n",
              "      quickchartButtonEl.classList.add('colab-df-quickchart-complete');\n",
              "    }\n",
              "    (() => {\n",
              "      let quickchartButtonEl =\n",
              "        document.querySelector('#df-2efa6974-923f-48bb-883b-d6b60d03a56e button');\n",
              "      quickchartButtonEl.style.display =\n",
              "        google.colab.kernel.accessAllowed ? 'block' : 'none';\n",
              "    })();\n",
              "  </script>\n",
              "</div>\n",
              "\n",
              "    </div>\n",
              "  </div>\n"
            ],
            "application/vnd.google.colaboratory.intrinsic+json": {
              "type": "dataframe",
              "variable_name": "reviews"
            }
          },
          "metadata": {},
          "execution_count": 99
        }
      ],
      "source": [
        "reviews = pd.read_csv('/content/drive/MyDrive/Reviews.csv')\n",
        "reviews.head()"
      ]
    },
    {
      "cell_type": "code",
      "execution_count": 92,
      "metadata": {
        "colab": {
          "base_uri": "https://localhost:8080/"
        },
        "id": "Qb9oL3gp89jo",
        "outputId": "6a85dc23-a6da-4869-d41c-9ee1fbfe3780"
      },
      "outputs": [
        {
          "output_type": "execute_result",
          "data": {
            "text/plain": [
              "array(['I have bought several of the Vitality canned dog food products and have found them all to be of good quality. The product looks more like a stew than a processed meat and it smells better. My Labrador is finicky and she appreciates this product better than  most.',\n",
              "       'Product arrived labeled as Jumbo Salted Peanuts...the peanuts were actually small sized unsalted. Not sure if this was an error or if the vendor intended to represent the product as \"Jumbo\".',\n",
              "       'This is a confection that has been around a few centuries.  It is a light, pillowy citrus gelatin with nuts - in this case Filberts. And it is cut into tiny squares and then liberally coated with powdered sugar.  And it is a tiny mouthful of heaven.  Not too chewy, and very flavorful.  I highly recommend this yummy treat.  If you are familiar with the story of C.S. Lewis\\' \"The Lion, The Witch, and The Wardrobe\" - this is the treat that seduces Edmund into selling out his Brother and Sisters to the Witch.',\n",
              "       'If you are looking for the secret ingredient in Robitussin I believe I have found it.  I got this in addition to the Root Beer Extract I ordered (which was good) and made some cherry soda.  The flavor is very medicinal.',\n",
              "       'Great taffy at a great price.  There was a wide assortment of yummy taffy.  Delivery was very quick.  If your a taffy lover, this is a deal.'],\n",
              "      dtype=object)"
            ]
          },
          "metadata": {},
          "execution_count": 92
        }
      ],
      "source": [
        "reviews.Text.values[:5]"
      ]
    },
    {
      "cell_type": "code",
      "execution_count": 93,
      "metadata": {
        "colab": {
          "base_uri": "https://localhost:8080/"
        },
        "id": "KNNV_xNCTa4o",
        "outputId": "e926ae9c-30da-4f74-a285-1f7e01b4f4e0"
      },
      "outputs": [
        {
          "output_type": "execute_result",
          "data": {
            "text/plain": [
              "array(['Good Quality Dog Food', 'Not as Advertised',\n",
              "       '\"Delight\" says it all', 'Cough Medicine', 'Great taffy'],\n",
              "      dtype=object)"
            ]
          },
          "metadata": {},
          "execution_count": 93
        }
      ],
      "source": [
        "reviews.Summary.values[:5]"
      ]
    },
    {
      "cell_type": "code",
      "execution_count": 100,
      "metadata": {
        "id": "Qf4R25A1TkO0"
      },
      "outputs": [],
      "source": [
        "reviews.dropna(subset=['Text', 'Summary'], inplace=True)"
      ]
    },
    {
      "cell_type": "code",
      "execution_count": 42,
      "metadata": {
        "id": "ghke67c989mf"
      },
      "outputs": [],
      "source": [
        "#"
      ]
    },
    {
      "cell_type": "code",
      "execution_count": 81,
      "metadata": {
        "colab": {
          "base_uri": "https://localhost:8080/"
        },
        "id": "BUSx-Ff0Tnir",
        "outputId": "08148322-c84f-4e28-d143-025247d0a610"
      },
      "outputs": [
        {
          "output_type": "execute_result",
          "data": {
            "text/plain": [
              "568427"
            ]
          },
          "metadata": {},
          "execution_count": 81
        }
      ],
      "source": [
        "len(reviews)"
      ]
    },
    {
      "cell_type": "code",
      "execution_count": 101,
      "metadata": {
        "id": "EZFsqii989sL"
      },
      "outputs": [],
      "source": [
        "max_length = 300"
      ]
    },
    {
      "cell_type": "code",
      "execution_count": 102,
      "metadata": {
        "colab": {
          "base_uri": "https://localhost:8080/"
        },
        "id": "lQYcqdKt89uz",
        "outputId": "4e91f8a6-6c13-44cd-b798-2f042b845e2c"
      },
      "outputs": [
        {
          "output_type": "execute_result",
          "data": {
            "text/plain": [
              "array(['I have bought several of the Vitality canned dog food products and have found them all to be of good quality. The product looks more like a stew than a processed meat and it smells better. My Labrador is finicky and she appreciates this product better than  most. TL;DR Good Quality Dog Food',\n",
              "       'Product arrived labeled as Jumbo Salted Peanuts...the peanuts were actually small sized unsalted. Not sure if this was an error or if the vendor intended to represent the product as \"Jumbo\". TL;DR Not as Advertised',\n",
              "       'This is a confection that has been around a few centuries.  It is a light, pillowy citrus gelatin with nuts - in this case Filberts. And it is cut into tiny squares and then liberally coated with powdered sugar.  And it is a tiny mouthful of heaven.  Not too chewy, and very flavorful.  I highly recommend this yummy treat.  If you are familiar with the story of C.S. Lewis\\' \"The Lion, The Witch, and The Wardrobe\" - this is the treat that seduces Edmund into selling out his Brother and Sisters to the Witch. TL;DR \"Delight\" says it all'],\n",
              "      dtype=object)"
            ]
          },
          "metadata": {},
          "execution_count": 102
        }
      ],
      "source": [
        "reviews['model_input'] = reviews['Text'] + \" TL;DR \" + reviews['Summary']\n",
        "reviews['model_input'].values[:3]"
      ]
    },
    {
      "cell_type": "code",
      "execution_count": 103,
      "metadata": {
        "id": "m3LeevhQAnoE"
      },
      "outputs": [],
      "source": [
        "max_length = 250"
      ]
    },
    {
      "cell_type": "code",
      "execution_count": 104,
      "metadata": {
        "colab": {
          "base_uri": "https://localhost:8080/"
        },
        "id": "qJed7Ei489xs",
        "outputId": "9db6bd8a-3bb1-4852-ff5f-3c1a253fc451"
      },
      "outputs": [
        {
          "output_type": "execute_result",
          "data": {
            "text/plain": [
              "20000"
            ]
          },
          "metadata": {},
          "execution_count": 104
        }
      ],
      "source": [
        "reviews = reviews.sample(20000)\n",
        "reviews = reviews.model_input.values.tolist()\n",
        "len(reviews)"
      ]
    },
    {
      "cell_type": "code",
      "execution_count": 48,
      "metadata": {
        "id": "uXukiGoi8907",
        "colab": {
          "base_uri": "https://localhost:8080/"
        },
        "outputId": "f1144b29-3420-4533-b3a1-ea7ee881a1a5"
      },
      "outputs": [
        {
          "output_type": "stream",
          "name": "stderr",
          "text": [
            "/usr/local/lib/python3.10/dist-packages/transformers/models/auto/modeling_auto.py:1595: FutureWarning: The class `AutoModelWithLMHead` is deprecated and will be removed in a future version. Please use `AutoModelForCausalLM` for causal language models, `AutoModelForMaskedLM` for masked language models and `AutoModelForSeq2SeqLM` for encoder-decoder models.\n",
            "  warnings.warn(\n"
          ]
        }
      ],
      "source": [
        "tokenizer = AutoTokenizer.from_pretrained(\"gpt2\")\n",
        "model = AutoModelWithLMHead.from_pretrained(\"gpt2\")"
      ]
    },
    {
      "cell_type": "code",
      "execution_count": 49,
      "metadata": {
        "id": "Cu-YGyvo893Z"
      },
      "outputs": [],
      "source": [
        "model = model.to(device)\n",
        "optimizer = optim.AdamW(model.parameters(), lr=5e-5)"
      ]
    },
    {
      "cell_type": "code",
      "execution_count": 50,
      "metadata": {
        "colab": {
          "base_uri": "https://localhost:8080/"
        },
        "id": "Lfwk0CAR9vpk",
        "outputId": "0b680001-fa7f-45aa-effa-b0a0682435d1"
      },
      "outputs": [
        {
          "output_type": "execute_result",
          "data": {
            "text/plain": [
              "[24811, 26, 7707, 220]"
            ]
          },
          "metadata": {},
          "execution_count": 50
        }
      ],
      "source": [
        "tokenizer.encode(\" TL;DR \")"
      ]
    },
    {
      "cell_type": "code",
      "execution_count": 51,
      "metadata": {
        "id": "I6wNzIz69vsG"
      },
      "outputs": [],
      "source": [
        "extra_length = len(tokenizer.encode(\" TL;DR \"))"
      ]
    },
    {
      "cell_type": "code",
      "execution_count": 52,
      "metadata": {
        "id": "Bwj65GBC9vua"
      },
      "outputs": [],
      "source": [
        "class ReviewDataset(Dataset):\n",
        "    def __init__(self, tokenizer, reviews, max_len):\n",
        "        self.max_len = max_len\n",
        "        self.tokenizer = tokenizer\n",
        "        self.eos = self.tokenizer.eos_token\n",
        "        self.eos_id = self.tokenizer.eos_token_id\n",
        "        self.reviews = reviews\n",
        "        self.result = []\n",
        "\n",
        "        for review in self.reviews:\n",
        "            # Encode the text using tokenizer.encode(). We add EOS at the end\n",
        "            tokenized = self.tokenizer.encode(review + self.eos)\n",
        "\n",
        "            # Padding/truncating the encoded sequence to max_len\n",
        "            padded = self.pad_truncate(tokenized)\n",
        "\n",
        "            # Creating a tensor and adding to the result\n",
        "            self.result.append(torch.tensor(padded))\n",
        "\n",
        "    def __len__(self):\n",
        "        return len(self.result)\n",
        "\n",
        "\n",
        "    def __getitem__(self, item):\n",
        "        return self.result[item]\n",
        "\n",
        "    def pad_truncate(self, name):\n",
        "        name_length = len(name) - extra_length\n",
        "        if name_length < self.max_len:\n",
        "            difference = self.max_len - name_length\n",
        "            result = name + [self.eos_id] * difference\n",
        "        elif name_length > self.max_len:\n",
        "            result = name[:self.max_len + 3]+[self.eos_id]\n",
        "        else:\n",
        "            result = name\n",
        "        return result"
      ]
    },
    {
      "cell_type": "code",
      "execution_count": 53,
      "metadata": {
        "colab": {
          "base_uri": "https://localhost:8080/"
        },
        "id": "k3BIoKRE9vx2",
        "outputId": "46fbefcb-9385-49d4-a47e-0ee527a98a94"
      },
      "outputs": [
        {
          "output_type": "stream",
          "name": "stderr",
          "text": [
            "Token indices sequence length is longer than the specified maximum sequence length for this model (1162 > 1024). Running this sequence through the model will result in indexing errors\n"
          ]
        }
      ],
      "source": [
        "dataset = ReviewDataset(tokenizer, reviews, max_length)"
      ]
    },
    {
      "cell_type": "code",
      "execution_count": 54,
      "metadata": {
        "id": "0E7yjQc39v0d"
      },
      "outputs": [],
      "source": [
        "dataloader = DataLoader(dataset, batch_size=32, shuffle=True, drop_last=True)"
      ]
    },
    {
      "cell_type": "code",
      "execution_count": 55,
      "metadata": {
        "id": "2NmeNyyT9v31"
      },
      "outputs": [],
      "source": [
        "def train(model, optimizer, dl, epochs):\n",
        "    for epoch in range(epochs):\n",
        "        for idx, batch in enumerate(dl):\n",
        "             with torch.set_grad_enabled(True):\n",
        "                optimizer.zero_grad()\n",
        "                batch = batch.to(device)\n",
        "                output = model(batch, labels=batch)\n",
        "                loss = output[0]\n",
        "                loss.backward()\n",
        "                optimizer.step()\n",
        "                if idx % 100 == 0:\n",
        "                    print(\"loss: %f, %d\"%(loss, idx))"
      ]
    },
    {
      "cell_type": "code",
      "execution_count": 105,
      "metadata": {
        "colab": {
          "base_uri": "https://localhost:8080/"
        },
        "id": "7aLm_E7x-BZm",
        "outputId": "ef3175d9-9b25-4f74-aea4-a9e1c165f0cf"
      },
      "outputs": [
        {
          "output_type": "stream",
          "name": "stdout",
          "text": [
            "loss: 2.063668, 0\n",
            "loss: 1.902992, 100\n",
            "loss: 1.940823, 200\n",
            "loss: 1.709489, 300\n",
            "loss: 1.954444, 0\n",
            "loss: 1.982386, 100\n",
            "loss: 1.632235, 200\n",
            "loss: 1.469066, 300\n",
            "loss: 1.454039, 0\n",
            "loss: 1.784222, 100\n",
            "loss: 1.466187, 200\n",
            "loss: 1.719608, 300\n",
            "loss: 1.509658, 0\n",
            "loss: 1.586798, 100\n",
            "loss: 1.600494, 200\n",
            "loss: 1.546392, 300\n",
            "loss: 1.270890, 0\n",
            "loss: 1.245149, 100\n",
            "loss: 1.322057, 200\n",
            "loss: 1.380549, 300\n",
            "loss: 1.105842, 0\n",
            "loss: 1.180933, 100\n",
            "loss: 1.172334, 200\n",
            "loss: 0.930210, 300\n"
          ]
        }
      ],
      "source": [
        "train(model=model, optimizer=optimizer, dl=dataloader, epochs=6)"
      ]
    },
    {
      "cell_type": "code",
      "execution_count": 57,
      "metadata": {
        "id": "Ox_8CciiiIAj"
      },
      "outputs": [],
      "source": [
        "# import torch\n",
        "\n",
        "# model_dir = '/content/drive/MyDrive/model_train'\n",
        "# model.save_pretrained(model_dir)\n",
        "# tokenizer.save_pretrained(model_dir)\n"
      ]
    },
    {
      "cell_type": "code",
      "execution_count": 106,
      "metadata": {
        "id": "UujIYGoC-Bco"
      },
      "outputs": [],
      "source": [
        "def topk(probs, n=9):\n",
        "    # The scores are initially softmaxed to convert to probabilities\n",
        "    probs = torch.softmax(probs, dim= -1)\n",
        "\n",
        "    # PyTorch has its own topk method, which we use here\n",
        "    tokensProb, topIx = torch.topk(probs, k=n)\n",
        "\n",
        "    # The new selection pool (9 choices) is normalized\n",
        "    tokensProb = tokensProb / torch.sum(tokensProb)\n",
        "\n",
        "    # Send to CPU for numpy handling\n",
        "    tokensProb = tokensProb.cpu().detach().numpy()\n",
        "\n",
        "    # Make a random choice from the pool based on the new prob distribution\n",
        "    choice = np.random.choice(n, 1, p = tokensProb)\n",
        "    tokenId = topIx[choice][0]\n",
        "\n",
        "    return int(tokenId)"
      ]
    },
    {
      "cell_type": "code",
      "execution_count": 107,
      "metadata": {
        "id": "_v7fAFqL-Bfy"
      },
      "outputs": [],
      "source": [
        "def model_infer(model, tokenizer, review, max_length=20):\n",
        "    # Preprocess the init token (task designator)\n",
        "    review_encoded = tokenizer.encode(review)\n",
        "    result = review_encoded\n",
        "    initial_input = torch.tensor(review_encoded).unsqueeze(0).to(device)\n",
        "\n",
        "    with torch.set_grad_enabled(False):\n",
        "        # Feed the init token to the model\n",
        "        output = model(initial_input)\n",
        "\n",
        "        # Flatten the logits at the final time step\n",
        "        logits = output.logits[0,-1]\n",
        "\n",
        "        # Make a top-k choice and append to the result\n",
        "        result.append(topk(logits))\n",
        "\n",
        "        # For max_length times:\n",
        "        for _ in range(max_length):\n",
        "            # Feed the current sequence to the model and make a choice\n",
        "            input = torch.tensor(result).unsqueeze(0).to(device)\n",
        "            output = model(input)\n",
        "            logits = output.logits[0,-1]\n",
        "            res_id = topk(logits)\n",
        "\n",
        "            # If the chosen token is EOS, return the result\n",
        "            if res_id == tokenizer.eos_token_id:\n",
        "                return tokenizer.decode(result)\n",
        "            else: # Append to the sequence\n",
        "                result.append(res_id)\n",
        "    # IF no EOS is generated, return after the max_len\n",
        "    return tokenizer.decode(result)"
      ]
    },
    {
      "cell_type": "code",
      "execution_count": 110,
      "metadata": {
        "id": "FlZRbtb0-PAS",
        "colab": {
          "base_uri": "https://localhost:8080/"
        },
        "outputId": "1aa863f0-5fd5-4038-c595-cd3ac66b9201"
      },
      "outputs": [
        {
          "output_type": "execute_result",
          "data": {
            "text/plain": [
              "[\"My daughter is a singer and loves this tea.  I don't drink it.<br /><br />The supplier (Vitaminlife) had this item on backorder, which happens sometimes, I understand.  But their communication about the status was poor.  I had to email and then telephone, to find out when it might be shipped.\",\n",
              " \"I absolutely love this stew mix.  All I do is add stew beef (uncooked) and water in the crockpot and it tastes like I made it from scratch.  I've even added a can of diced tomatoes and a can of tomato sauce for a little different flavor.  I could eat it every day!\",\n",
              " 'I will have my Agave for a while. I use it daily for green smoothies. So I needed a large amount. I\\'m sure 5 gallons will hold me for 3 months. :) Wow! what a savings!<br />I prefer buying through Amazon.com. Good prices, good deals,<br />good products. No long waiting for delivery. Amazon carry name brands I find at the store. So I know what I am buying.<br />Thanks Amazon.com. You are my kind of store. \"I\\'ll be back\". :)',\n",
              " 'I literally could not live without the Monthly Comfort tea. A friend recommended it to me for \"the time of the month\" and I tried it skeptically - especially as I am not a mother, a soon to be mother, or motherly at all. I start drinking at least a cup of this three to four days before my cycle, and find that most of the monthly annoyance of being a woman subsides. What was a week of unpleasantness, with two days of insomnia because the pain is so bad has no turned into a day or two max of light cramps, with no bloating either.<br /><br />To me it tastes like cinnamon and ginger, with raspberry undertones. It tastes delicious enough that I often have it all month long, not just on my cycle. It\\'s especially pleasant on a chilly morning.<br /><br />I buy this in bulk now, because running out is simply not an option!',\n",
              " \"I love salty snack foods, especially cheesy ones, and one of the things that I miss most on a low-carb regime are Doritos. The Sahale Southwest Cashews have all the spicy-cheesy-salty goodness of a Dorito, but are low carb -- 10g carb per quarter-cup. They're addictive. They're quite expensive (one cup of nuts per package), but if you're not worried about what you're paying for your snack food, these are great.\",\n",
              " \"I can't say enough good things about this juice as well as the Zola company. To begin, I had a problem with one of the cases of juice I purchased that was in no way related to the quality of the juice. I contacted Zola and they immediately replaced the item. As for the juice itself, not only is it healthy and delicious but it gives me that extra bit of energy boost my job and long hours demands. The Blueberry as well as the new 50% less sugar are my favorites:)\",\n",
              " \"Order arrived quickly.  Great taste.  I've tried other more expensive brands, and this is my favorite.  Was glad it was shipped in glass jars vs. plastic ones, even though I didn't see that indicated in the item description.\",\n",
              " 'If you have fungus gnats, these will control the problem.  Fungus gnats are irresistably drawn to yellow, and these sticky traps are bright yellow.  Only issue I have with them is that there must be a better way of using them than attaching them to the plant with a twist tie.',\n",
              " 'These bully sticks have been a blessing, they keep my puppy busy for a good length of time.',\n",
              " 'I love Pacific Natural Foods organic soups, especially the creamy tomatoes and butternut squash. But this cream of mushroom soup has no flavor at all. I went with the 12-pack based on my confidence in the brand. Now I am stuck with 11 packs of bad soups.']"
            ]
          },
          "metadata": {},
          "execution_count": 110
        }
      ],
      "source": [
        "sample_reviews = [review.split(\" TL;DR \")[0] for review in random.sample(reviews, 10)]\n",
        "sample_reviews"
      ]
    },
    {
      "cell_type": "code",
      "execution_count": 111,
      "metadata": {
        "id": "9Ptx-RNp-PDe",
        "colab": {
          "base_uri": "https://localhost:8080/"
        },
        "outputId": "2f5a1939-de2b-4489-fdd3-d242864b1cff"
      },
      "outputs": [
        {
          "output_type": "stream",
          "name": "stdout",
          "text": [
            "My daughter is a singer and loves this tea.  I don't drink it.<br /><br />The supplier (Vitaminlife) had this item on backorder, which happens sometimes, I understand.  But their communication about the status was poor.  I had to email and then telephone, to find out when it might be shipped.\n",
            "Summaries: Yummy tea\n",
            "\n",
            "I absolutely love this stew mix.  All I do is add stew beef (uncooked) and water in the crockpot and it tastes like I made it from scratch.  I've even added a can of diced tomatoes and a can of tomato sauce for a little different flavor.  I could eat it every day!\n",
            "Summaries: rave rave!\n",
            "\n",
            "I will have my Agave for a while. I use it daily for green smoothies. So I needed a large amount. I'm sure 5 gallons will hold me for 3 months. :) Wow! what a savings!<br />I prefer buying through Amazon.com. Good prices, good deals,<br />good products. No long waiting for delivery. Amazon carry name brands I find at the store. So I know what I am buying.<br />Thanks Amazon.com. You are my kind of store. \"I'll be back\". :)\n",
            "Summaries: ive been waiting 3 months\n",
            "\n",
            "I literally could not live without the Monthly Comfort tea. A friend recommended it to me for \"the time of the month\" and I tried it skeptically - especially as I am not a mother, a soon to be mother, or motherly at all. I start drinking at least a cup of this three to four days before my cycle, and find that most of the monthly annoyance of being a woman subsides. What was a week of unpleasantness, with two days of insomnia because the pain is so bad has no turned into a day or two max of light cramps, with no bloating either.<br /><br />To me it tastes like cinnamon and ginger, with raspberry undertones. It tastes delicious enough that I often have it all month long, not just on my cycle. It's especially pleasant on a chilly morning.<br /><br />I buy this in bulk now, because running out is simply not an option!\n",
            "Summaries: <|endoftext|>\n",
            "\n",
            "I love salty snack foods, especially cheesy ones, and one of the things that I miss most on a low-carb regime are Doritos. The Sahale Southwest Cashews have all the spicy-cheesy-salty goodness of a Dorito, but are low carb -- 10g carb per quarter-cup. They're addictive. They're quite expensive (one cup of nuts per package), but if you're not worried about what you're paying for your snack food, these are great.\n",
            "Summaries: rave reviews!\n",
            "\n",
            "I can't say enough good things about this juice as well as the Zola company. To begin, I had a problem with one of the cases of juice I purchased that was in no way related to the quality of the juice. I contacted Zola and they immediately replaced the item. As for the juice itself, not only is it healthy and delicious but it gives me that extra bit of energy boost my job and long hours demands. The Blueberry as well as the new 50% less sugar are my favorites:)\n",
            "Summaries: really great!\n",
            "\n",
            "Order arrived quickly.  Great taste.  I've tried other more expensive brands, and this is my favorite.  Was glad it was shipped in glass jars vs. plastic ones, even though I didn't see that indicated in the item description.\n",
            "Summaries: Great!\n",
            "\n",
            "If you have fungus gnats, these will control the problem.  Fungus gnats are irresistably drawn to yellow, and these sticky traps are bright yellow.  Only issue I have with them is that there must be a better way of using them than attaching them to the plant with a twist tie.\n",
            "Summaries: gripe abounds.\n",
            "\n",
            "These bully sticks have been a blessing, they keep my puppy busy for a good length of time.\n",
            "Summaries: a great dog treat\n",
            "\n",
            "I love Pacific Natural Foods organic soups, especially the creamy tomatoes and butternut squash. But this cream of mushroom soup has no flavor at all. I went with the 12-pack based on my confidence in the brand. Now I am stuck with 11 packs of bad soups.\n",
            "Summaries: was skeptical, but it's really good\n",
            "\n"
          ]
        }
      ],
      "source": [
        "for review in sample_reviews:\n",
        "    print(review)\n",
        "    summary = model_infer(model, tokenizer, review + \" TL;DR \").split(\" TL;DR \")[1].strip()\n",
        "    print(\"Summaries: \"+ str(summary) +\"\\n\")"
      ]
    },
    {
      "cell_type": "code",
      "execution_count": null,
      "metadata": {
        "id": "DVMTIHyT-Bip"
      },
      "outputs": [],
      "source": [
        "import torch\n",
        "import os\n",
        "\n",
        "# Save the model to the output directory\n",
        "output_dir = '/kaggle/working/output/'\n",
        "\n",
        "# Create the output directory if it doesn't exist\n",
        "os.makedirs(output_dir, exist_ok=True)\n",
        "\n",
        "# Save the model state dictionary\n",
        "torch.save(model.state_dict(), os.path.join(output_dir, 'trained_model.pth'))"
      ]
    },
    {
      "cell_type": "code",
      "source": [
        "import torch\n",
        "from transformers import AutoModelWithLMHead, AutoTokenizer\n",
        "from torch.utils.data import Dataset, DataLoader\n",
        "\n",
        "# Load the model architecture and tokenizer\n",
        "tokenizer = AutoTokenizer.from_pretrained(\"gpt2\")\n",
        "model = AutoModelWithLMHead.from_pretrained(\"gpt2\")\n",
        "\n",
        "# Define the device\n",
        "device = torch.device('cuda' if torch.cuda.is_available() else 'cpu')\n",
        "\n",
        "# Load the saved model state dictionary\n",
        "model_path = '/kaggle/working/output/trained_model.pth'\n",
        "model.load_state_dict(torch.load(model_path, map_location=device))\n",
        "model.to(device)\n",
        "\n",
        "# # Now, you can use your model for inference or further training in your Kaggle notebook\n",
        "\n",
        "# # Example usage:\n",
        "# inputs = tokenizer.encode(\"heloooo\", return_tensors=\"pt\").to(device)\n",
        "# outputs = model.generate(inputs, max_length=50, do_sample=True)\n",
        "# decoded_output = tokenizer.decode(outputs[0], skip_special_tokens=True)\n",
        "# print(decoded_output)"
      ],
      "metadata": {
        "id": "wkfGEAbypf-c"
      },
      "execution_count": null,
      "outputs": []
    },
    {
      "cell_type": "code",
      "source": [
        "!pip install rouge"
      ],
      "metadata": {
        "id": "IuKrV32tpJRx"
      },
      "execution_count": null,
      "outputs": []
    },
    {
      "cell_type": "code",
      "source": [
        "while True:\n",
        "    print(\"\\nEnter your review (type 'exit' to quit):\")\n",
        "    review = input()\n",
        "    if review.lower() == 'exit':\n",
        "        break\n",
        "\n",
        "    print(\"Enter your summary prompt (press Enter for default ' TL;DR '):\")\n",
        "    summary_prompt = input().strip()\n",
        "    if not summary_prompt:\n",
        "        summary_prompt = \" TL;DR \"\n",
        "\n",
        "    generated_summary = model_infer(model, tokenizer, review + summary_prompt +\" TL;DR \").split(\" TL;DR \")[1].strip()\n",
        "    print(\"\\nGenerated Summary:\", generated_summary)\n",
        "    calculate_rouge_scores(summary_prompt, generated_summary)"
      ],
      "metadata": {
        "id": "lLAiQg_BpKO0"
      },
      "execution_count": null,
      "outputs": []
    },
    {
      "cell_type": "code",
      "source": [
        "from rouge import Rouge\n",
        "\n",
        "def calculate_rouge_scores(original_summary, predicted_summary):\n",
        "    # Initialize Rouge\n",
        "    rouge = Rouge()\n",
        "\n",
        "    # Calculate ROUGE scores\n",
        "    scores = rouge.get_scores(predicted_summary, original_summary)\n",
        "\n",
        "    # Print ROUGE scores\n",
        "    print(\"ROUGE-1: Precision: {:.2f}, Recall: {:.2f}, F1-Score: {:.2f}\".format(\n",
        "        scores[0]['rouge-1']['p'], scores[0]['rouge-1']['r'], scores[0]['rouge-1']['f']))\n",
        "    print(\"ROUGE-2: Precision: {:.2f}, Recall: {:.2f}, F1-Score: {:.2f}\".format(\n",
        "        scores[0]['rouge-2']['p'], scores[0]['rouge-2']['r'], scores[0]['rouge-2']['f']))\n",
        "    print(\"ROUGE-L: Precision: {:.2f}, Recall: {:.2f}, F1-Score: {:.2f}\".format(\n",
        "        scores[0]['rouge-l']['p'], scores[0]['rouge-l']['r'], scores[0]['rouge-l']['f']))"
      ],
      "metadata": {
        "id": "b9qa1HUCpQZ3"
      },
      "execution_count": null,
      "outputs": []
    }
  ],
  "metadata": {
    "colab": {
      "provenance": [],
      "gpuType": "T4"
    },
    "kernelspec": {
      "display_name": "Python 3",
      "name": "python3"
    },
    "language_info": {
      "name": "python"
    },
    "accelerator": "GPU"
  },
  "nbformat": 4,
  "nbformat_minor": 0
}